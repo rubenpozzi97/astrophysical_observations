{
 "cells": [
  {
   "cell_type": "markdown",
   "id": "dependent-spanking",
   "metadata": {},
   "source": [
    "# Movements of a planetary system with N bodies"
   ]
  },
  {
   "cell_type": "markdown",
   "id": "short-auction",
   "metadata": {},
   "source": [
    "We will discribe the motion of different planets of a planetary system."
   ]
  },
  {
   "cell_type": "code",
   "execution_count": 25,
   "id": "disturbed-steering",
   "metadata": {},
   "outputs": [],
   "source": [
    "import ROOT\n",
    "import numpy as np\n",
    "import time\n",
    "import math\n",
    "from math import exp\n",
    "import matplotlib.pyplot as plt\n",
    "from numpy import loadtxt\n",
    "from random import choices\n",
    "import random\n",
    "from scipy import optimize\n",
    "from scipy.optimize import fmin\n",
    "from scipy.stats import poisson\n",
    "import matplotlib.pyplot as plt\n",
    "from scipy.optimize import curve_fit"
   ]
  },
  {
   "cell_type": "code",
   "execution_count": 120,
   "id": "standing-burner",
   "metadata": {},
   "outputs": [],
   "source": [
    "#Starting values\n",
    "Number_Planets = 4\n",
    "Time_duration = 30\n",
    "Time_steps = 1\n",
    "G = 0.1"
   ]
  },
  {
   "cell_type": "code",
   "execution_count": 121,
   "id": "interior-numbers",
   "metadata": {},
   "outputs": [
    {
     "data": {
      "image/png": "[encoded data removed]",
      "text/plain": [
       "<Figure size 432x288 with 1 Axes>"
      ]
     },
     "metadata": {
      "needs_background": "light"
     },
     "output_type": "display_data"
    }
   ],
   "source": [
    "#Create random positions of Planets\n",
    "Radii_planets = np.random.uniform(0.1,1,size=(Number_Planets))\n",
    "Angle_planets = np.random.uniform(0,2*np.pi,size=(Number_Planets))\n",
    "X_Pos_planets = Radii_planets * np.cos(Angle_planets)\n",
    "Y_Pos_planets = Radii_planets * np.sin(Angle_planets)\n",
    "Pos_array = np.vstack((X_Pos_planets, Y_Pos_planets)).T #planets\n",
    "Pos_array = np.append(Pos_array,[[0,0]],0) #sun\n",
    "#print(Pos_array)\n",
    "\n",
    "\n",
    "\n",
    "#Create random start velocities of Planets\n",
    "X_Vel_planets = np.random.uniform(0,0.1,size=(Number_Planets))\n",
    "Y_Vel_planets = np.random.uniform(0,0.1,size=(Number_Planets))\n",
    "Vel_array = np.vstack((X_Vel_planets, Y_Vel_planets)).T  #plantes\n",
    "Vel_array = np.append(Vel_array,[[0,0]],0) #sun\n",
    "#print(Vel_array)\n",
    "\n",
    "\n",
    "\n",
    "#Get random Masses smaller than sun mass\n",
    "Mass_array = np.append(np.random.uniform(0,1,size=(Number_Planets)),1)\n",
    "#print(Mass_array)\n",
    "\n",
    "\n",
    "\n",
    "#plot planet positions\n",
    "plt.scatter(0,0,color ='black')\n",
    "plt.scatter(X_Pos_planets,Y_Pos_planets,c=Mass)\n",
    "plt.xlim(-1, 1);\n",
    "plt.ylim(-1, 1);"
   ]
  },
  {
   "cell_type": "markdown",
   "id": "honest-breakfast",
   "metadata": {},
   "source": [
    "## Main body - Dpoing the calculation"
   ]
  },
  {
   "cell_type": "markdown",
   "id": "fleet-employer",
   "metadata": {},
   "source": [
    "### Function calculating the different acc"
   ]
  },
  {
   "cell_type": "code",
   "execution_count": 122,
   "id": "hourly-grounds",
   "metadata": {},
   "outputs": [],
   "source": [
    "def Get_Acc(Pos_Array,Mass_Array):\n",
    "    x = Pos_array[:,0:1]\n",
    "    y = Pos_array[:,1:2]\n",
    "    dx = x.T - x\n",
    "    dy = y.T - y\n",
    "    Diag = np.diag([1]*(Number_Planets+1))\n",
    "    inv_r2 = (dx**2 + dy**2 + Diag)**(-1.5)- Diag\n",
    "    ax = G * (dx * inv_r2) @ Mass_array\n",
    "    ay = G * (dy * inv_r2) @ Mass_array\n",
    "    a = np.vstack((ax, ay)).T\n",
    "    return(a)"
   ]
  },
  {
   "cell_type": "markdown",
   "id": "through-making",
   "metadata": {},
   "source": [
    "### Main Main body"
   ]
  },
  {
   "cell_type": "code",
   "execution_count": 133,
   "id": "fatty-royalty",
   "metadata": {},
   "outputs": [
    {
     "name": "stdout",
     "output_type": "stream",
     "text": [
      "[ 0  1  2  3  4  5  6  7  8  9 10 11 12 13 14 15 16 17 18 19 20 21 22 23\n",
      " 24 25 26 27 28 29]\n",
      "[array([[  39.58453984,   19.69744661],\n",
      "       [  26.68763311,    8.5369732 ],\n",
      "       [-127.76895948,  -29.50726203],\n",
      "       [  34.80470062,    8.38483818],\n",
      "       [  35.19684049,    8.33775582]]), array([[  39.99909036,   19.85950197],\n",
      "       [  27.03733676,    8.63041301],\n",
      "       [-129.11459555,  -29.81803545],\n",
      "       [  35.37587702,    8.12383041],\n",
      "       [  35.55051439,    8.45092021]]), array([[  40.41350466,   20.02122115],\n",
      "       [  27.38778342,    8.72384126],\n",
      "       [-130.46022961,  -30.1288084 ],\n",
      "       [  36.1183052 ,    8.18365183],\n",
      "       [  35.89284486,    8.54291537]]), array([[  40.82778408,   20.18260891],\n",
      "       [  27.7389702 ,    8.81725794],\n",
      "       [-131.80586172,  -30.43958089],\n",
      "       [  36.71296791,    8.47890228],\n",
      "       [  36.2449001 ,    8.61938094]]), array([[  41.24193001,   20.34366989],\n",
      "       [  28.09089462,    8.91066275],\n",
      "       [-133.1514919 ,  -30.75035292],\n",
      "       [  37.10707733,    8.83435276],\n",
      "       [  36.61016635,    8.69188892]]), array([[  41.65594378,   20.50440854],\n",
      "       [  28.44355405,    9.00405521],\n",
      "       [-134.4971202 ,  -31.06112451],\n",
      "       [  37.32129081,    9.13825238],\n",
      "       [  36.98727945,    8.76781922]]), array([[  42.06982663,   20.66482917],\n",
      "       [  28.79694565,    9.09743501],\n",
      "       [-135.84274666,  -31.37189567],\n",
      "       [  37.40089064,    9.29290767],\n",
      "       [  37.37324903,    8.85362336]]), array([[  42.48357978,   20.8249361 ],\n",
      "       [  29.15106681,    9.19080209],\n",
      "       [-137.1883713 ,  -31.6826664 ],\n",
      "       [  37.46425218,    9.19000307],\n",
      "       [  37.76025758,    8.95645436]]), array([[  42.89720449,   20.98473359],\n",
      "       [  29.50591558,    9.28415635],\n",
      "       [-138.53399417,  -31.99343672],\n",
      "       [  37.80369176,    8.86926145],\n",
      "       [  38.12900039,    9.07368867]]), array([[  43.31070202,   21.14422566],\n",
      "       [  29.86148987,    9.37749729],\n",
      "       [-139.87961531,  -32.30420662],\n",
      "       [  38.42988779,    8.728758  ],\n",
      "       [  38.4787723 ,    9.17903694]]), array([[  43.72407349,   21.30341629],\n",
      "       [  30.21778741,    9.47082479],\n",
      "       [-141.22523473,  -32.61497612],\n",
      "       [  39.08235854,    8.83058249],\n",
      "       [  38.82677578,    9.26839852]]), array([[  44.13732007,   21.46230944],\n",
      "       [  30.57480652,    9.56413879],\n",
      "       [-142.57085249,  -32.92574523],\n",
      "       [  39.63671795,    9.10043865],\n",
      "       [  39.18122541,    9.34667977]]), array([[  44.55044297,   21.62090894],\n",
      "       [  30.93254583,    9.65743905],\n",
      "       [-143.9164686 ,  -33.23651395],\n",
      "       [  40.02699534,    9.45899915],\n",
      "       [  39.54647795,    9.41911933]]), array([[  44.96344335,   21.77921848],\n",
      "       [  31.29100381,    9.75072509],\n",
      "       [-145.2620831 ,  -33.54728229],\n",
      "       [  40.20291631,    9.79978735],\n",
      "       [  39.9258536 ,    9.49274884]]), array([[  45.37632227,   21.93724165],\n",
      "       [  31.65017872,    9.8439966 ],\n",
      "       [-146.60769601,  -33.85805026],\n",
      "       [  40.18296221,    9.92355514],\n",
      "       [  40.31813188,    9.58072659]]), array([[  45.78908081,   22.09498206],\n",
      "       [  32.01006913,    9.93725356],\n",
      "       [-147.95330738,  -34.16881786],\n",
      "       [  40.29802463,    9.70481644],\n",
      "       [  40.7014605 ,    9.69133958]]), array([[  46.20172008,   22.25244321],\n",
      "       [  32.37067421,   10.03049562],\n",
      "       [-149.29891722,  -34.47958511],\n",
      "       [  40.71973923,    9.47584721],\n",
      "       [  41.06450453,    9.80264392]]), array([[  46.61424113,   22.40962844],\n",
      "       [  32.73199269,   10.12372235],\n",
      "       [-150.64452556,  -34.790352  ],\n",
      "       [  41.30223036,    9.39932243],\n",
      "       [  41.41689771,    9.90389627]]), array([[  47.02664495,   22.56654108],\n",
      "       [  33.09402335,   10.21693365],\n",
      "       [-151.99013243,  -35.10111854],\n",
      "       [  41.9260734 ,    9.50491608],\n",
      "       [  41.76652695,    9.99313678]]), array([[  47.43893255,   22.72318445],\n",
      "       [  33.45676546,   10.31012947],\n",
      "       [-153.33573786,  -35.41188474],\n",
      "       [  42.49101435,    9.79067678],\n",
      "       [  42.12001309,   10.07049415]]), array([[  47.85110497,   22.87956177],\n",
      "       [  33.82021863,   10.40330957],\n",
      "       [-154.68134186,  -35.72265061],\n",
      "       [  42.87106507,   10.21587909],\n",
      "       [  42.48567644,   10.13865775]]), array([[  48.26316322,   23.03567615],\n",
      "       [  34.18438233,   10.49647351],\n",
      "       [-156.02694447,  -36.03341615],\n",
      "       [  42.93374456,   10.57750868],\n",
      "       [  42.87226612,   10.21103465]]), array([[  48.67510824,   23.19153063],\n",
      "       [  34.54925579,   10.58962105],\n",
      "       [-157.37254571,  -36.34418137],\n",
      "       [  42.93648599,   10.58203986],\n",
      "       [  43.26278107,   10.30700934]]), array([[  49.08694098,   23.34712825],\n",
      "       [  34.91483892,   10.68275212],\n",
      "       [-158.71814561,  -36.65494627],\n",
      "       [  43.14912617,   10.40963428],\n",
      "       [  43.63940104,   10.41468365]]), array([[  49.49866242,   23.50247194],\n",
      "       [  35.2811318 ,   10.77586629],\n",
      "       [-160.06374417,  -36.96571086],\n",
      "       [  43.56971137,   10.23938401],\n",
      "       [  44.002255  ,   10.52223011]]), array([[  49.91027347,   23.65756455],\n",
      "       [  35.64813415,   10.86896311],\n",
      "       [-161.40934144,  -37.27647514],\n",
      "       [  44.14693671,   10.17159957],\n",
      "       [  44.35473113,   10.62302399]]), array([[  50.32177501,   23.81240887],\n",
      "       [  36.01584566,   10.96204241],\n",
      "       [-162.75493742,  -37.58723912],\n",
      "       [  44.80878512,   10.28774093],\n",
      "       [  44.70158548,   10.7116855 ]]), array([[  50.73316792,   23.96700773],\n",
      "       [  36.3842665 ,   11.05510415],\n",
      "       [-164.10053214,  -37.8980028 ],\n",
      "       [  45.40650255,   10.65739573],\n",
      "       [  45.0526418 ,   10.78361886]]), array([[  51.14445311,   24.12136386],\n",
      "       [  36.75339724,   11.14814804],\n",
      "       [-165.44612563,  -38.20876619],\n",
      "       [  45.67054776,   11.14607557],\n",
      "       [  45.42570072,   10.84770565]]), array([[  51.55563144,   24.27547987],\n",
      "       [  37.12323812,   11.24117364],\n",
      "       [-166.79171789,  -38.5195293 ],\n",
      "       [  45.72165354,   11.37531625],\n",
      "       [  45.8127889 ,   10.9289398 ]]), array([[  51.96670373,   24.4293584 ],\n",
      "       [  37.49378949,   11.33418088],\n",
      "       [-168.13730896,  -38.83029212],\n",
      "       [  45.82091674,   11.36854057],\n",
      "       [  46.19666327,   11.02577431]])]\n"
     ]
    }
   ],
   "source": [
    "timestep_array = np.arange(round(Time_duration/Time_steps))\n",
    "print(timestep_array)\n",
    "Array_of_all_pos = [Pos_array]\n",
    "for i in timestep_array:\n",
    "    #acceleration\n",
    "    Acc_array = Get_Acc(Pos_array,Mass_array)\n",
    "    #velocities\n",
    "    Vel_array = Vel_array + (Time_steps/2) * Acc_array\n",
    "    #Positions \n",
    "    Pos_array = Pos_array + Vel_array * Time_steps\n",
    "    Array_of_all_pos.append(Pos_array)\n",
    "print(Array_of_all_pos)"
   ]
  },
  {
   "cell_type": "code",
   "execution_count": 130,
   "id": "demanding-firmware",
   "metadata": {},
   "outputs": [
    {
     "data": {
      "text/plain": [
       "array([[-6.41240534e-04, -2.75271550e-03],\n",
       "       [ 3.25030945e-03,  7.50220274e-05],\n",
       "       [ 3.02213761e-05,  7.11740020e-06],\n",
       "       [-3.00668285e-01,  5.45108213e-01],\n",
       "       [ 1.97043603e-02, -3.58576367e-02]])"
      ]
     },
     "execution_count": 130,
     "metadata": {},
     "output_type": "execute_result"
    }
   ],
   "source": [
    "Get_Acc(Pos_array,Mass_array)"
   ]
  },
  {
   "cell_type": "code",
   "execution_count": 124,
   "id": "destroyed-professor",
   "metadata": {},
   "outputs": [
    {
     "data": {
      "text/plain": [
       "[array([[ 0.07749412, -0.4290993 ],\n",
       "        [-0.84950321, -0.21832674],\n",
       "        [ 0.17693338,  0.04294233],\n",
       "        [-0.3558338 ,  0.2735762 ],\n",
       "        [ 0.        ,  0.        ]]),\n",
       " array([[ 0.06389193, -0.08224086],\n",
       "        [-0.72997122, -0.13733633],\n",
       "        [-1.21274925, -0.27885656],\n",
       "        [-0.03196939,  0.11852355],\n",
       "        [ 0.4185758 ,  0.10017191]])]"
      ]
     },
     "execution_count": 124,
     "metadata": {},
     "output_type": "execute_result"
    }
   ],
   "source": [
    "Array_of_all_pos"
   ]
  },
  {
   "cell_type": "code",
   "execution_count": 119,
   "id": "surface-cedar",
   "metadata": {},
   "outputs": [
    {
     "name": "stdout",
     "output_type": "stream",
     "text": [
      "[-0.06493748  1.13928775  0.61125492 -1.36025239  0.39375566]\n",
      "time : 0.001077413558959961 s\n"
     ]
    }
   ],
   "source": [
    "Tic = time.time()\n",
    "x = Pos_array[:,0:1]\n",
    "y = Pos_array[:,1:2]\n",
    "dx = x.T - x\n",
    "dy = y.T - y\n",
    "Diag = np.diag([1]*(Number_Planets+1))\n",
    "inv_r2 = (dx**2 + dy**2 + Diag)**(-1.5)- Diag\n",
    "ax = G * (dx * inv_r2) @ Mass_array\n",
    "ay = G * (dy * inv_r2) @ Mass_array\n",
    "print(ax)\n",
    "Toc = time.time()\n",
    "print(\"time : %s s\" % (Toc-Tic))"
   ]
  },
  {
   "cell_type": "code",
   "execution_count": 114,
   "id": "thrown-guidance",
   "metadata": {},
   "outputs": [
    {
     "name": "stdout",
     "output_type": "stream",
     "text": [
      "[[ 0.         -0.63981563 -0.16636754 -0.2601395  -0.45955256]\n",
      " [ 0.63981563  0.          0.47344809  0.37967613  0.18026307]\n",
      " [ 0.16636754 -0.47344809  0.         -0.09377197 -0.29318502]\n",
      " [ 0.2601395  -0.37967613  0.09377197  0.         -0.19941305]\n",
      " [ 0.45955256 -0.18026307  0.29318502  0.19941305  0.        ]]\n",
      "[[ 0.          2.91010725  3.95489946 53.87259169  9.85745844]\n",
      " [ 2.91010725  0.          5.27963163  7.72300434 48.9646138 ]\n",
      " [ 3.95489946  5.27963163  0.          3.3846606   4.49016765]\n",
      " [53.87259169  7.72300434  3.3846606   0.         74.71204567]\n",
      " [ 9.85745844 48.9646138   4.49016765 74.71204567  0.        ]]\n",
      "[[  0.          -1.86193211  -0.65796689 -14.01438929  -4.53002024]\n",
      " [  1.86193211   0.           2.49963153   2.93224039   8.82651184]\n",
      " [  0.65796689  -2.49963153   0.          -0.31738628  -1.31644989]\n",
      " [ 14.01438929  -2.93224039   0.31738628   0.         -14.89855714]\n",
      " [  4.53002024  -8.82651184   1.31644989  14.89855714   0.        ]]\n",
      "-1.8619321103955397\n",
      "0.0\n",
      "-0.2435378705250061\n",
      "-0.6243484725259306\n",
      "-9.270957681870359\n",
      "-13.800977918782092\n",
      "-13.800977918782092\n",
      "[-13.80097792  13.72525307  -1.25865459  -2.73264169  12.79666403]\n"
     ]
    }
   ],
   "source": [
    "print(dx)\n",
    "print(inv_r2)\n",
    "print(dx * inv_r2)\n",
    "print(dx[0][1]*inv_r2[0][1])\n",
    "\n"
   ]
  },
  {
   "cell_type": "code",
   "execution_count": 136,
   "id": "invisible-tenant",
   "metadata": {},
   "outputs": [
    {
     "name": "stderr",
     "output_type": "stream",
     "text": [
      "/usr/local/lib/python3.8/dist-packages/matplotlib/animation.py:973: UserWarning: Animation was deleted without rendering anything. This is most likely unintended. To prevent deletion, assign the Animation to a variable that exists for as long as you need the Animation.\n",
      "  warnings.warn(\n",
      "MovieWriter imagemagick unavailable; using Pillow instead.\n"
     ]
    },
    {
     "data": {
      "image/png": "[encoded data removed]",
      "text/plain": [
       "<Figure size 432x288 with 1 Axes>"
      ]
     },
     "metadata": {
      "needs_background": "light"
     },
     "output_type": "display_data"
    }
   ],
   "source": [
    "import itertools\n",
    "import matplotlib.pyplot as plt\n",
    "import matplotlib.animation as animation\n",
    "\n",
    "def neighbors(point):\n",
    "    x, y = point\n",
    "    for i, j in itertools.product(range(-1, 2), repeat=2):\n",
    "        if any((i, j)):\n",
    "            yield (x + i, y + j)\n",
    "\n",
    "def advance(board):\n",
    "    newstate = set()\n",
    "    recalc = board | set(itertools.chain(*map(neighbors, board)))\n",
    "\n",
    "    for point in recalc:\n",
    "        count = sum((neigh in board)\n",
    "                for neigh in neighbors(point))\n",
    "        if count == 3 or (count == 2 and point in board):\n",
    "            newstate.add(point)\n",
    "\n",
    "    return newstate\n",
    "\n",
    "glider = set([(0, 0), (1, 0), (2, 0), (0, 1), (1, 2)])\n",
    "\n",
    "fig, ax = plt.subplots()\n",
    "\n",
    "x, y = zip(*glider)\n",
    "mat, = ax.plot(x, y, 'o')\n",
    "\n",
    "def animate(i):\n",
    "    global glider\n",
    "    glider = advance(glider)\n",
    "    x, y = zip(*glider)\n",
    "    mat.set_data(x, y)\n",
    "    return mat,\n",
    "\n",
    "ax.axis([-15,5,-15,5])\n",
    "ani = animation.FuncAnimation(fig, animate, interval=50)\n",
    "ani.save(\"output.gif\" ,writer=\"imagemagick\")\n",
    "plt.show()"
   ]
  },
  {
   "cell_type": "code",
   "execution_count": null,
   "id": "surprised-percentage",
   "metadata": {},
   "outputs": [],
   "source": []
  }
 ],
 "metadata": {
  "kernelspec": {
   "display_name": "Python 3",
   "language": "python",
   "name": "python3"
  },
  "language_info": {
   "codemirror_mode": {
    "name": "ipython",
    "version": 3
   },
   "file_extension": ".py",
   "mimetype": "text/x-python",
   "name": "python",
   "nbconvert_exporter": "python",
   "pygments_lexer": "ipython3",
   "version": "3.8.5"
  }
 },
 "nbformat": 4,
 "nbformat_minor": 5
}
